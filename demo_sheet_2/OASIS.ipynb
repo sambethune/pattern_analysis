{
 "cells": [
  {
   "cell_type": "code",
   "execution_count": 1,
   "metadata": {},
   "outputs": [],
   "source": [
    "import tensorflow as tf\n",
    "from tensorflow import keras\n",
    "from tensorflow.keras.optimizers import Adam as adam\n",
    "from sklearn.preprocessing import StandardScaler\n",
    "import matplotlib.pyplot as plt\n",
    "import glob\n",
    "import numpy as np"
   ]
  },
  {
   "cell_type": "code",
   "execution_count": 63,
   "metadata": {},
   "outputs": [],
   "source": [
    "my_path = 'D:\\keras_png_slices_data\\keras_png_slices_'\n",
    "datasets = ['train', 'validate', 'test']\n",
    "pixels = [0, 85, 170, 255]\n",
    "data_dict = {}"
   ]
  },
  {
   "cell_type": "code",
   "execution_count": 64,
   "metadata": {},
   "outputs": [],
   "source": [
    "def format_fn(path):\n",
    "    img = tf.io.read_file(path)\n",
    "    tens = tf.image.decode_png(img)\n",
    "    return tf.reshape(tens, [tens.shape[0], -1])\n",
    "\n",
    "def path_2_tens(x_path, y_path):\n",
    "    x = format_fn(x_path)\n",
    "    x = tf.cast(x, tf.float32)/127.5 - 1.0\n",
    "    \n",
    "    y = format_fn(y_path)\n",
    "    y = tf.stack([y==pixel for pixel in pixels], axis=2)\n",
    "    y = tf.cast(y, tf.float32)\n",
    "    \n",
    "    return x, y"
   ]
  },
  {
   "cell_type": "code",
   "execution_count": 68,
   "metadata": {},
   "outputs": [],
   "source": [
    "for dataset in datasets:\n",
    "    x_paths = glob.glob(my_path + dataset + '*.png')\n",
    "    y_paths = glob.glob(my_path + 'seg_' + dataset + '*.png')\n",
    "    data_dict[dataset] = tf.data.Dataset.from_tensor_slices((x_paths, y_paths))\n",
    "#     data_dict[dataset] = data_dict[dataset].map(path_2_tens)"
   ]
  },
  {
   "cell_type": "code",
   "execution_count": 70,
   "metadata": {},
   "outputs": [
    {
     "data": {
      "text/plain": [
       "[]"
      ]
     },
     "execution_count": 70,
     "metadata": {},
     "output_type": "execute_result"
    }
   ],
   "source": [
    "x_paths"
   ]
  }
 ],
 "metadata": {
  "kernelspec": {
   "display_name": "Python 3",
   "language": "python",
   "name": "python3"
  },
  "language_info": {
   "codemirror_mode": {
    "name": "ipython",
    "version": 3
   },
   "file_extension": ".py",
   "mimetype": "text/x-python",
   "name": "python",
   "nbconvert_exporter": "python",
   "pygments_lexer": "ipython3",
   "version": "3.7.7"
  }
 },
 "nbformat": 4,
 "nbformat_minor": 4
}
